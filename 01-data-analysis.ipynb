{
 "cells": [
  {
   "cell_type": "markdown",
   "metadata": {},
   "source": [
    "## 라이브러리 호출"
   ]
  },
  {
   "cell_type": "code",
   "execution_count": 1,
   "metadata": {},
   "outputs": [
    {
     "data": {
      "text/plain": [
       "True"
      ]
     },
     "execution_count": 1,
     "metadata": {},
     "output_type": "execute_result"
    }
   ],
   "source": [
    "# Pandas 라이브러리 임포트\n",
    "import pandas as pd\n",
    "from dotenv import load_dotenv\n",
    "import os\n",
    "import xml.etree.ElementTree as ET \n",
    "import plotly.express as px\n",
    "import plotly.graph_objects as go\n",
    "from plotly.subplots import make_subplots\n",
    "\n",
    "load_dotenv()"
   ]
  },
  {
   "cell_type": "markdown",
   "metadata": {},
   "source": [
    "## API 요청"
   ]
  },
  {
   "cell_type": "code",
   "execution_count": 2,
   "metadata": {},
   "outputs": [],
   "source": [
    "import requests\n",
    "\n",
    "SEOUL_DATA_API_KEY = os.getenv('SEOUL_DATA_API_KEY')\n",
    "\n",
    "url = f'http://openapi.seoul.go.kr:8088/{SEOUL_DATA_API_KEY}/xml/tbLnOpendataRtmsV/1/1000'"
   ]
  },
  {
   "cell_type": "code",
   "execution_count": 3,
   "metadata": {},
   "outputs": [],
   "source": [
    "try:\n",
    "    response = requests.get(url)\n",
    "    response.raise_for_status()\n",
    "except requests.exceptions.RequestException as e:\n",
    "    print(f\"API 요청 중 오류 발생: {e}\")"
   ]
  },
  {
   "cell_type": "markdown",
   "metadata": {},
   "source": [
    "## XML -> DataFrame 형태로 변환"
   ]
  },
  {
   "cell_type": "code",
   "execution_count": 4,
   "metadata": {},
   "outputs": [
    {
     "name": "stdout",
     "output_type": "stream",
     "text": [
      "\n",
      "API 응답을 DataFrame으로 변환 성공\n"
     ]
    }
   ],
   "source": [
    "try:\n",
    "    # 응답 내용을 XML로 파싱\n",
    "    root = ET.fromstring(response.content)\n",
    "\n",
    "    # 데이터를 저장할 리스트 초기화\n",
    "    data = []\n",
    "\n",
    "    # 제공된 API 문서의 출력 필드명과 원하는 한글 컬럼명 매핑\n",
    "    # {API 필드명: 한글 컬럼명} 형태의 딕셔너리 사용\n",
    "    field_mapping = {\n",
    "        'RCPT_YR': '접수연도',\n",
    "        'CGG_CD': '자치구코드',\n",
    "        'CGG_NM': '자치구명',\n",
    "        'STDG_CD': '법정동코드',\n",
    "        'STDG_NM': '법정동명',\n",
    "        'LOTNO_SE': '지번구분',\n",
    "        'LOTNO_SE_NM': '지번구분명',\n",
    "        'MNO': '본번',\n",
    "        'SNO': '부번',\n",
    "        'BLDG_NM': '건물명',\n",
    "        'CTRT_DAY': '계약일',\n",
    "        'THING_AMT': '물건금액(만원)',\n",
    "        'ARCH_AREA': '건물면적(㎡)',\n",
    "        'LAND_AREA': '토지면적(㎡)',\n",
    "        'FLR': '층',\n",
    "        'RGHT_SE': '권리구분',\n",
    "        'RTRCN_DAY': '취소일',\n",
    "        'ARCH_YR': '건축년도',\n",
    "        'BLDG_USG': '건물용도',\n",
    "        'DCLR_SE': '신고구분',\n",
    "        'OPBIZ_RESTAGNT_SGG_NM': '신고한 개업공인중개사 시군구명'\n",
    "    }\n",
    "\n",
    "    # 각 'row' 태그를 순회하며 데이터 추출\n",
    "    for row in root.findall('.//row'): # './/row'는 root 아래의 모든 'row' 태그를 찾습니다.\n",
    "        # print(ET.tostring(row, encoding='utf-8').decode('utf-8')) # 각 row의 XML 내용을 출력하려면 이 주석을 해제하세요.\n",
    "        entry = {}\n",
    "        # 매핑된 필드 정보를 사용하여 데이터 추출\n",
    "        for api_field, korean_name in field_mapping.items():\n",
    "            # 해당 API 필드 태그를 찾아서 텍스트 추출. 태그가 없을 경우 None으로 처리.\n",
    "            element = row.find(api_field)\n",
    "            entry[korean_name] = element.text if element is not None else None # 한글 컬럼명을 키로 사용\n",
    "\n",
    "        data.append(entry) # 각 row에서 추출한 데이터를 data 리스트에 추가\n",
    "\n",
    "    # 추출한 데이터를 Pandas DataFrame으로 변환\n",
    "    df_api = pd.DataFrame(data)\n",
    "\n",
    "    # DataFrame의 처음 5행 출력하여 확인\n",
    "    print(\"\\nAPI 응답을 DataFrame으로 변환 성공\")\n",
    "\n",
    "except ET.ParseError as e:\n",
    "    print(f\"XML 파싱 중 오류 발생: {e}\")\n",
    "except Exception as e:\n",
    "    print(f\"처리 중 예상치 못한 오류 발생: {e}\")"
   ]
  },
  {
   "cell_type": "code",
   "execution_count": 5,
   "metadata": {},
   "outputs": [
    {
     "data": {
      "text/html": [
       "<div>\n",
       "<style scoped>\n",
       "    .dataframe tbody tr th:only-of-type {\n",
       "        vertical-align: middle;\n",
       "    }\n",
       "\n",
       "    .dataframe tbody tr th {\n",
       "        vertical-align: top;\n",
       "    }\n",
       "\n",
       "    .dataframe thead th {\n",
       "        text-align: right;\n",
       "    }\n",
       "</style>\n",
       "<table border=\"1\" class=\"dataframe\">\n",
       "  <thead>\n",
       "    <tr style=\"text-align: right;\">\n",
       "      <th></th>\n",
       "      <th>접수연도</th>\n",
       "      <th>자치구코드</th>\n",
       "      <th>자치구명</th>\n",
       "      <th>법정동코드</th>\n",
       "      <th>법정동명</th>\n",
       "      <th>지번구분</th>\n",
       "      <th>지번구분명</th>\n",
       "      <th>본번</th>\n",
       "      <th>부번</th>\n",
       "      <th>건물명</th>\n",
       "      <th>...</th>\n",
       "      <th>물건금액(만원)</th>\n",
       "      <th>건물면적(㎡)</th>\n",
       "      <th>토지면적(㎡)</th>\n",
       "      <th>층</th>\n",
       "      <th>권리구분</th>\n",
       "      <th>취소일</th>\n",
       "      <th>건축년도</th>\n",
       "      <th>건물용도</th>\n",
       "      <th>신고구분</th>\n",
       "      <th>신고한 개업공인중개사 시군구명</th>\n",
       "    </tr>\n",
       "  </thead>\n",
       "  <tbody>\n",
       "    <tr>\n",
       "      <th>0</th>\n",
       "      <td>2025</td>\n",
       "      <td>11650</td>\n",
       "      <td>서초구</td>\n",
       "      <td>10800</td>\n",
       "      <td>서초동</td>\n",
       "      <td>1</td>\n",
       "      <td>대지</td>\n",
       "      <td>1327</td>\n",
       "      <td>0027</td>\n",
       "      <td>강남역 한화오벨리스크</td>\n",
       "      <td>...</td>\n",
       "      <td>26300</td>\n",
       "      <td>33.575</td>\n",
       "      <td>45.283000</td>\n",
       "      <td>10</td>\n",
       "      <td>None</td>\n",
       "      <td>None</td>\n",
       "      <td>2003</td>\n",
       "      <td>오피스텔</td>\n",
       "      <td>중개거래</td>\n",
       "      <td>서울 서초구</td>\n",
       "    </tr>\n",
       "    <tr>\n",
       "      <th>1</th>\n",
       "      <td>2025</td>\n",
       "      <td>11260</td>\n",
       "      <td>중랑구</td>\n",
       "      <td>10100</td>\n",
       "      <td>면목동</td>\n",
       "      <td>1</td>\n",
       "      <td>대지</td>\n",
       "      <td>0375</td>\n",
       "      <td>0003</td>\n",
       "      <td>면목골드빌라</td>\n",
       "      <td>...</td>\n",
       "      <td>24800</td>\n",
       "      <td>57.2</td>\n",
       "      <td>28.000000</td>\n",
       "      <td>5</td>\n",
       "      <td>None</td>\n",
       "      <td>None</td>\n",
       "      <td>2002</td>\n",
       "      <td>연립다세대</td>\n",
       "      <td>중개거래</td>\n",
       "      <td>서울 중랑구</td>\n",
       "    </tr>\n",
       "    <tr>\n",
       "      <th>2</th>\n",
       "      <td>2025</td>\n",
       "      <td>11650</td>\n",
       "      <td>서초구</td>\n",
       "      <td>10800</td>\n",
       "      <td>서초동</td>\n",
       "      <td>1</td>\n",
       "      <td>대지</td>\n",
       "      <td>1327</td>\n",
       "      <td>0027</td>\n",
       "      <td>강남역 한화오벨리스크</td>\n",
       "      <td>...</td>\n",
       "      <td>26300</td>\n",
       "      <td>33.575</td>\n",
       "      <td>45.283000</td>\n",
       "      <td>10</td>\n",
       "      <td>None</td>\n",
       "      <td>20250423</td>\n",
       "      <td>2003</td>\n",
       "      <td>오피스텔</td>\n",
       "      <td>중개거래</td>\n",
       "      <td>서울 서초구</td>\n",
       "    </tr>\n",
       "    <tr>\n",
       "      <th>3</th>\n",
       "      <td>2025</td>\n",
       "      <td>11350</td>\n",
       "      <td>노원구</td>\n",
       "      <td>10500</td>\n",
       "      <td>상계동</td>\n",
       "      <td>1</td>\n",
       "      <td>대지</td>\n",
       "      <td>1410</td>\n",
       "      <td>0000</td>\n",
       "      <td>노원롯데캐슬시그니처</td>\n",
       "      <td>...</td>\n",
       "      <td>87000</td>\n",
       "      <td>59.975</td>\n",
       "      <td>0.000000</td>\n",
       "      <td>15</td>\n",
       "      <td>None</td>\n",
       "      <td>None</td>\n",
       "      <td>2023</td>\n",
       "      <td>아파트</td>\n",
       "      <td>중개거래</td>\n",
       "      <td>서울 노원구</td>\n",
       "    </tr>\n",
       "    <tr>\n",
       "      <th>4</th>\n",
       "      <td>2025</td>\n",
       "      <td>11740</td>\n",
       "      <td>강동구</td>\n",
       "      <td>10900</td>\n",
       "      <td>천호동</td>\n",
       "      <td>1</td>\n",
       "      <td>대지</td>\n",
       "      <td>0332</td>\n",
       "      <td>0019</td>\n",
       "      <td>광나루에스엠파크</td>\n",
       "      <td>...</td>\n",
       "      <td>26000</td>\n",
       "      <td>29.09</td>\n",
       "      <td>15.000000</td>\n",
       "      <td>6</td>\n",
       "      <td>None</td>\n",
       "      <td>None</td>\n",
       "      <td>2018</td>\n",
       "      <td>연립다세대</td>\n",
       "      <td>직거래</td>\n",
       "      <td>None</td>\n",
       "    </tr>\n",
       "    <tr>\n",
       "      <th>...</th>\n",
       "      <td>...</td>\n",
       "      <td>...</td>\n",
       "      <td>...</td>\n",
       "      <td>...</td>\n",
       "      <td>...</td>\n",
       "      <td>...</td>\n",
       "      <td>...</td>\n",
       "      <td>...</td>\n",
       "      <td>...</td>\n",
       "      <td>...</td>\n",
       "      <td>...</td>\n",
       "      <td>...</td>\n",
       "      <td>...</td>\n",
       "      <td>...</td>\n",
       "      <td>...</td>\n",
       "      <td>...</td>\n",
       "      <td>...</td>\n",
       "      <td>...</td>\n",
       "      <td>...</td>\n",
       "      <td>...</td>\n",
       "      <td>...</td>\n",
       "    </tr>\n",
       "    <tr>\n",
       "      <th>995</th>\n",
       "      <td>2025</td>\n",
       "      <td>11590</td>\n",
       "      <td>동작구</td>\n",
       "      <td>10700</td>\n",
       "      <td>사당동</td>\n",
       "      <td>None</td>\n",
       "      <td>None</td>\n",
       "      <td>None</td>\n",
       "      <td>None</td>\n",
       "      <td>None</td>\n",
       "      <td>...</td>\n",
       "      <td>223155</td>\n",
       "      <td>248.46</td>\n",
       "      <td>159.000000</td>\n",
       "      <td>None</td>\n",
       "      <td>None</td>\n",
       "      <td>None</td>\n",
       "      <td>1995</td>\n",
       "      <td>단독다가구</td>\n",
       "      <td>직거래</td>\n",
       "      <td>None</td>\n",
       "    </tr>\n",
       "    <tr>\n",
       "      <th>996</th>\n",
       "      <td>2025</td>\n",
       "      <td>11545</td>\n",
       "      <td>금천구</td>\n",
       "      <td>10300</td>\n",
       "      <td>시흥동</td>\n",
       "      <td>1</td>\n",
       "      <td>대지</td>\n",
       "      <td>1013</td>\n",
       "      <td>0000</td>\n",
       "      <td>관악산벽산타운5</td>\n",
       "      <td>...</td>\n",
       "      <td>42800</td>\n",
       "      <td>59.34</td>\n",
       "      <td>0.000000</td>\n",
       "      <td>6</td>\n",
       "      <td>None</td>\n",
       "      <td>None</td>\n",
       "      <td>2004</td>\n",
       "      <td>아파트</td>\n",
       "      <td>중개거래</td>\n",
       "      <td>서울 금천구</td>\n",
       "    </tr>\n",
       "    <tr>\n",
       "      <th>997</th>\n",
       "      <td>2025</td>\n",
       "      <td>11230</td>\n",
       "      <td>동대문구</td>\n",
       "      <td>10500</td>\n",
       "      <td>답십리동</td>\n",
       "      <td>1</td>\n",
       "      <td>대지</td>\n",
       "      <td>0010</td>\n",
       "      <td>0000</td>\n",
       "      <td>동아</td>\n",
       "      <td>...</td>\n",
       "      <td>85700</td>\n",
       "      <td>114.84</td>\n",
       "      <td>0.000000</td>\n",
       "      <td>5</td>\n",
       "      <td>None</td>\n",
       "      <td>None</td>\n",
       "      <td>2001</td>\n",
       "      <td>아파트</td>\n",
       "      <td>중개거래</td>\n",
       "      <td>서울 동대문구</td>\n",
       "    </tr>\n",
       "    <tr>\n",
       "      <th>998</th>\n",
       "      <td>2025</td>\n",
       "      <td>11380</td>\n",
       "      <td>은평구</td>\n",
       "      <td>10700</td>\n",
       "      <td>응암동</td>\n",
       "      <td>1</td>\n",
       "      <td>대지</td>\n",
       "      <td>0742</td>\n",
       "      <td>0006</td>\n",
       "      <td>청송하이츠빌라</td>\n",
       "      <td>...</td>\n",
       "      <td>25500</td>\n",
       "      <td>48.72</td>\n",
       "      <td>34.000000</td>\n",
       "      <td>2</td>\n",
       "      <td>None</td>\n",
       "      <td>None</td>\n",
       "      <td>1989</td>\n",
       "      <td>연립다세대</td>\n",
       "      <td>중개거래</td>\n",
       "      <td>서울 은평구</td>\n",
       "    </tr>\n",
       "    <tr>\n",
       "      <th>999</th>\n",
       "      <td>2025</td>\n",
       "      <td>11215</td>\n",
       "      <td>광진구</td>\n",
       "      <td>10500</td>\n",
       "      <td>자양동</td>\n",
       "      <td>None</td>\n",
       "      <td>None</td>\n",
       "      <td>None</td>\n",
       "      <td>None</td>\n",
       "      <td>None</td>\n",
       "      <td>...</td>\n",
       "      <td>180750</td>\n",
       "      <td>301.74</td>\n",
       "      <td>167.000000</td>\n",
       "      <td>None</td>\n",
       "      <td>None</td>\n",
       "      <td>None</td>\n",
       "      <td>1989</td>\n",
       "      <td>단독다가구</td>\n",
       "      <td>중개거래</td>\n",
       "      <td>서울 광진구</td>\n",
       "    </tr>\n",
       "  </tbody>\n",
       "</table>\n",
       "<p>1000 rows × 21 columns</p>\n",
       "</div>"
      ],
      "text/plain": [
       "     접수연도  자치구코드  자치구명  법정동코드  법정동명  지번구분 지번구분명    본번    부번          건물명  ...  \\\n",
       "0    2025  11650   서초구  10800   서초동     1    대지  1327  0027  강남역 한화오벨리스크  ...   \n",
       "1    2025  11260   중랑구  10100   면목동     1    대지  0375  0003       면목골드빌라  ...   \n",
       "2    2025  11650   서초구  10800   서초동     1    대지  1327  0027  강남역 한화오벨리스크  ...   \n",
       "3    2025  11350   노원구  10500   상계동     1    대지  1410  0000   노원롯데캐슬시그니처  ...   \n",
       "4    2025  11740   강동구  10900   천호동     1    대지  0332  0019     광나루에스엠파크  ...   \n",
       "..    ...    ...   ...    ...   ...   ...   ...   ...   ...          ...  ...   \n",
       "995  2025  11590   동작구  10700   사당동  None  None  None  None         None  ...   \n",
       "996  2025  11545   금천구  10300   시흥동     1    대지  1013  0000     관악산벽산타운5  ...   \n",
       "997  2025  11230  동대문구  10500  답십리동     1    대지  0010  0000           동아  ...   \n",
       "998  2025  11380   은평구  10700   응암동     1    대지  0742  0006      청송하이츠빌라  ...   \n",
       "999  2025  11215   광진구  10500   자양동  None  None  None  None         None  ...   \n",
       "\n",
       "    물건금액(만원) 건물면적(㎡)     토지면적(㎡)     층  권리구분       취소일  건축년도   건물용도  신고구분  \\\n",
       "0      26300  33.575   45.283000    10  None      None  2003   오피스텔  중개거래   \n",
       "1      24800    57.2   28.000000     5  None      None  2002  연립다세대  중개거래   \n",
       "2      26300  33.575   45.283000    10  None  20250423  2003   오피스텔  중개거래   \n",
       "3      87000  59.975    0.000000    15  None      None  2023    아파트  중개거래   \n",
       "4      26000   29.09   15.000000     6  None      None  2018  연립다세대   직거래   \n",
       "..       ...     ...         ...   ...   ...       ...   ...    ...   ...   \n",
       "995   223155  248.46  159.000000  None  None      None  1995  단독다가구   직거래   \n",
       "996    42800   59.34    0.000000     6  None      None  2004    아파트  중개거래   \n",
       "997    85700  114.84    0.000000     5  None      None  2001    아파트  중개거래   \n",
       "998    25500   48.72   34.000000     2  None      None  1989  연립다세대  중개거래   \n",
       "999   180750  301.74  167.000000  None  None      None  1989  단독다가구  중개거래   \n",
       "\n",
       "    신고한 개업공인중개사 시군구명  \n",
       "0             서울 서초구  \n",
       "1             서울 중랑구  \n",
       "2             서울 서초구  \n",
       "3             서울 노원구  \n",
       "4               None  \n",
       "..               ...  \n",
       "995             None  \n",
       "996           서울 금천구  \n",
       "997          서울 동대문구  \n",
       "998           서울 은평구  \n",
       "999           서울 광진구  \n",
       "\n",
       "[1000 rows x 21 columns]"
      ]
     },
     "execution_count": 5,
     "metadata": {},
     "output_type": "execute_result"
    }
   ],
   "source": [
    "df_api"
   ]
  },
  {
   "cell_type": "markdown",
   "metadata": {},
   "source": [
    "## 간단한 시각화"
   ]
  },
  {
   "cell_type": "markdown",
   "metadata": {},
   "source": [
    "### 1. 법정동명별 거래 건수 시각화 (상위 15개)"
   ]
  },
  {
   "cell_type": "code",
   "execution_count": 6,
   "metadata": {},
   "outputs": [
    {
     "data": {
      "application/vnd.plotly.v1+json": {
       "config": {
        "plotlyServerURL": "https://plot.ly"
       },
       "data": [
        {
         "hovertemplate": "법정동명=%{x}<br>count=%{marker.color}<extra></extra>",
         "legendgroup": "",
         "marker": {
          "color": {
           "bdata": "ehsbGxkWFBMTEBAODQ0M",
           "dtype": "i1"
          },
          "coloraxis": "coloraxis",
          "pattern": {
           "shape": ""
          }
         },
         "name": "",
         "orientation": "v",
         "showlegend": false,
         "textposition": "auto",
         "type": "bar",
         "x": [
          "천호동",
          "신정동",
          "목동",
          "화곡동",
          "구로동",
          "봉천동",
          "상도동",
          "본동",
          "신림동",
          "미아동",
          "마곡동",
          "상계동",
          "여의도동",
          "자양동",
          "시흥동"
         ],
         "xaxis": "x",
         "y": {
          "bdata": "ehsbGxkWFBMTEBAODQ0M",
          "dtype": "i1"
         },
         "yaxis": "y"
        }
       ],
       "layout": {
        "barmode": "relative",
        "coloraxis": {
         "colorbar": {
          "title": {
           "text": "count"
          }
         },
         "colorscale": [
          [
           0,
           "#0d0887"
          ],
          [
           0.1111111111111111,
           "#46039f"
          ],
          [
           0.2222222222222222,
           "#7201a8"
          ],
          [
           0.3333333333333333,
           "#9c179e"
          ],
          [
           0.4444444444444444,
           "#bd3786"
          ],
          [
           0.5555555555555556,
           "#d8576b"
          ],
          [
           0.6666666666666666,
           "#ed7953"
          ],
          [
           0.7777777777777778,
           "#fb9f3a"
          ],
          [
           0.8888888888888888,
           "#fdca26"
          ],
          [
           1,
           "#f0f921"
          ]
         ]
        },
        "legend": {
         "tracegroupgap": 0
        },
        "template": {
         "data": {
          "bar": [
           {
            "error_x": {
             "color": "#2a3f5f"
            },
            "error_y": {
             "color": "#2a3f5f"
            },
            "marker": {
             "line": {
              "color": "#E5ECF6",
              "width": 0.5
             },
             "pattern": {
              "fillmode": "overlay",
              "size": 10,
              "solidity": 0.2
             }
            },
            "type": "bar"
           }
          ],
          "barpolar": [
           {
            "marker": {
             "line": {
              "color": "#E5ECF6",
              "width": 0.5
             },
             "pattern": {
              "fillmode": "overlay",
              "size": 10,
              "solidity": 0.2
             }
            },
            "type": "barpolar"
           }
          ],
          "carpet": [
           {
            "aaxis": {
             "endlinecolor": "#2a3f5f",
             "gridcolor": "white",
             "linecolor": "white",
             "minorgridcolor": "white",
             "startlinecolor": "#2a3f5f"
            },
            "baxis": {
             "endlinecolor": "#2a3f5f",
             "gridcolor": "white",
             "linecolor": "white",
             "minorgridcolor": "white",
             "startlinecolor": "#2a3f5f"
            },
            "type": "carpet"
           }
          ],
          "choropleth": [
           {
            "colorbar": {
             "outlinewidth": 0,
             "ticks": ""
            },
            "type": "choropleth"
           }
          ],
          "contour": [
           {
            "colorbar": {
             "outlinewidth": 0,
             "ticks": ""
            },
            "colorscale": [
             [
              0,
              "#0d0887"
             ],
             [
              0.1111111111111111,
              "#46039f"
             ],
             [
              0.2222222222222222,
              "#7201a8"
             ],
             [
              0.3333333333333333,
              "#9c179e"
             ],
             [
              0.4444444444444444,
              "#bd3786"
             ],
             [
              0.5555555555555556,
              "#d8576b"
             ],
             [
              0.6666666666666666,
              "#ed7953"
             ],
             [
              0.7777777777777778,
              "#fb9f3a"
             ],
             [
              0.8888888888888888,
              "#fdca26"
             ],
             [
              1,
              "#f0f921"
             ]
            ],
            "type": "contour"
           }
          ],
          "contourcarpet": [
           {
            "colorbar": {
             "outlinewidth": 0,
             "ticks": ""
            },
            "type": "contourcarpet"
           }
          ],
          "heatmap": [
           {
            "colorbar": {
             "outlinewidth": 0,
             "ticks": ""
            },
            "colorscale": [
             [
              0,
              "#0d0887"
             ],
             [
              0.1111111111111111,
              "#46039f"
             ],
             [
              0.2222222222222222,
              "#7201a8"
             ],
             [
              0.3333333333333333,
              "#9c179e"
             ],
             [
              0.4444444444444444,
              "#bd3786"
             ],
             [
              0.5555555555555556,
              "#d8576b"
             ],
             [
              0.6666666666666666,
              "#ed7953"
             ],
             [
              0.7777777777777778,
              "#fb9f3a"
             ],
             [
              0.8888888888888888,
              "#fdca26"
             ],
             [
              1,
              "#f0f921"
             ]
            ],
            "type": "heatmap"
           }
          ],
          "histogram": [
           {
            "marker": {
             "pattern": {
              "fillmode": "overlay",
              "size": 10,
              "solidity": 0.2
             }
            },
            "type": "histogram"
           }
          ],
          "histogram2d": [
           {
            "colorbar": {
             "outlinewidth": 0,
             "ticks": ""
            },
            "colorscale": [
             [
              0,
              "#0d0887"
             ],
             [
              0.1111111111111111,
              "#46039f"
             ],
             [
              0.2222222222222222,
              "#7201a8"
             ],
             [
              0.3333333333333333,
              "#9c179e"
             ],
             [
              0.4444444444444444,
              "#bd3786"
             ],
             [
              0.5555555555555556,
              "#d8576b"
             ],
             [
              0.6666666666666666,
              "#ed7953"
             ],
             [
              0.7777777777777778,
              "#fb9f3a"
             ],
             [
              0.8888888888888888,
              "#fdca26"
             ],
             [
              1,
              "#f0f921"
             ]
            ],
            "type": "histogram2d"
           }
          ],
          "histogram2dcontour": [
           {
            "colorbar": {
             "outlinewidth": 0,
             "ticks": ""
            },
            "colorscale": [
             [
              0,
              "#0d0887"
             ],
             [
              0.1111111111111111,
              "#46039f"
             ],
             [
              0.2222222222222222,
              "#7201a8"
             ],
             [
              0.3333333333333333,
              "#9c179e"
             ],
             [
              0.4444444444444444,
              "#bd3786"
             ],
             [
              0.5555555555555556,
              "#d8576b"
             ],
             [
              0.6666666666666666,
              "#ed7953"
             ],
             [
              0.7777777777777778,
              "#fb9f3a"
             ],
             [
              0.8888888888888888,
              "#fdca26"
             ],
             [
              1,
              "#f0f921"
             ]
            ],
            "type": "histogram2dcontour"
           }
          ],
          "mesh3d": [
           {
            "colorbar": {
             "outlinewidth": 0,
             "ticks": ""
            },
            "type": "mesh3d"
           }
          ],
          "parcoords": [
           {
            "line": {
             "colorbar": {
              "outlinewidth": 0,
              "ticks": ""
             }
            },
            "type": "parcoords"
           }
          ],
          "pie": [
           {
            "automargin": true,
            "type": "pie"
           }
          ],
          "scatter": [
           {
            "fillpattern": {
             "fillmode": "overlay",
             "size": 10,
             "solidity": 0.2
            },
            "type": "scatter"
           }
          ],
          "scatter3d": [
           {
            "line": {
             "colorbar": {
              "outlinewidth": 0,
              "ticks": ""
             }
            },
            "marker": {
             "colorbar": {
              "outlinewidth": 0,
              "ticks": ""
             }
            },
            "type": "scatter3d"
           }
          ],
          "scattercarpet": [
           {
            "marker": {
             "colorbar": {
              "outlinewidth": 0,
              "ticks": ""
             }
            },
            "type": "scattercarpet"
           }
          ],
          "scattergeo": [
           {
            "marker": {
             "colorbar": {
              "outlinewidth": 0,
              "ticks": ""
             }
            },
            "type": "scattergeo"
           }
          ],
          "scattergl": [
           {
            "marker": {
             "colorbar": {
              "outlinewidth": 0,
              "ticks": ""
             }
            },
            "type": "scattergl"
           }
          ],
          "scattermap": [
           {
            "marker": {
             "colorbar": {
              "outlinewidth": 0,
              "ticks": ""
             }
            },
            "type": "scattermap"
           }
          ],
          "scattermapbox": [
           {
            "marker": {
             "colorbar": {
              "outlinewidth": 0,
              "ticks": ""
             }
            },
            "type": "scattermapbox"
           }
          ],
          "scatterpolar": [
           {
            "marker": {
             "colorbar": {
              "outlinewidth": 0,
              "ticks": ""
             }
            },
            "type": "scatterpolar"
           }
          ],
          "scatterpolargl": [
           {
            "marker": {
             "colorbar": {
              "outlinewidth": 0,
              "ticks": ""
             }
            },
            "type": "scatterpolargl"
           }
          ],
          "scatterternary": [
           {
            "marker": {
             "colorbar": {
              "outlinewidth": 0,
              "ticks": ""
             }
            },
            "type": "scatterternary"
           }
          ],
          "surface": [
           {
            "colorbar": {
             "outlinewidth": 0,
             "ticks": ""
            },
            "colorscale": [
             [
              0,
              "#0d0887"
             ],
             [
              0.1111111111111111,
              "#46039f"
             ],
             [
              0.2222222222222222,
              "#7201a8"
             ],
             [
              0.3333333333333333,
              "#9c179e"
             ],
             [
              0.4444444444444444,
              "#bd3786"
             ],
             [
              0.5555555555555556,
              "#d8576b"
             ],
             [
              0.6666666666666666,
              "#ed7953"
             ],
             [
              0.7777777777777778,
              "#fb9f3a"
             ],
             [
              0.8888888888888888,
              "#fdca26"
             ],
             [
              1,
              "#f0f921"
             ]
            ],
            "type": "surface"
           }
          ],
          "table": [
           {
            "cells": {
             "fill": {
              "color": "#EBF0F8"
             },
             "line": {
              "color": "white"
             }
            },
            "header": {
             "fill": {
              "color": "#C8D4E3"
             },
             "line": {
              "color": "white"
             }
            },
            "type": "table"
           }
          ]
         },
         "layout": {
          "annotationdefaults": {
           "arrowcolor": "#2a3f5f",
           "arrowhead": 0,
           "arrowwidth": 1
          },
          "autotypenumbers": "strict",
          "coloraxis": {
           "colorbar": {
            "outlinewidth": 0,
            "ticks": ""
           }
          },
          "colorscale": {
           "diverging": [
            [
             0,
             "#8e0152"
            ],
            [
             0.1,
             "#c51b7d"
            ],
            [
             0.2,
             "#de77ae"
            ],
            [
             0.3,
             "#f1b6da"
            ],
            [
             0.4,
             "#fde0ef"
            ],
            [
             0.5,
             "#f7f7f7"
            ],
            [
             0.6,
             "#e6f5d0"
            ],
            [
             0.7,
             "#b8e186"
            ],
            [
             0.8,
             "#7fbc41"
            ],
            [
             0.9,
             "#4d9221"
            ],
            [
             1,
             "#276419"
            ]
           ],
           "sequential": [
            [
             0,
             "#0d0887"
            ],
            [
             0.1111111111111111,
             "#46039f"
            ],
            [
             0.2222222222222222,
             "#7201a8"
            ],
            [
             0.3333333333333333,
             "#9c179e"
            ],
            [
             0.4444444444444444,
             "#bd3786"
            ],
            [
             0.5555555555555556,
             "#d8576b"
            ],
            [
             0.6666666666666666,
             "#ed7953"
            ],
            [
             0.7777777777777778,
             "#fb9f3a"
            ],
            [
             0.8888888888888888,
             "#fdca26"
            ],
            [
             1,
             "#f0f921"
            ]
           ],
           "sequentialminus": [
            [
             0,
             "#0d0887"
            ],
            [
             0.1111111111111111,
             "#46039f"
            ],
            [
             0.2222222222222222,
             "#7201a8"
            ],
            [
             0.3333333333333333,
             "#9c179e"
            ],
            [
             0.4444444444444444,
             "#bd3786"
            ],
            [
             0.5555555555555556,
             "#d8576b"
            ],
            [
             0.6666666666666666,
             "#ed7953"
            ],
            [
             0.7777777777777778,
             "#fb9f3a"
            ],
            [
             0.8888888888888888,
             "#fdca26"
            ],
            [
             1,
             "#f0f921"
            ]
           ]
          },
          "colorway": [
           "#636efa",
           "#EF553B",
           "#00cc96",
           "#ab63fa",
           "#FFA15A",
           "#19d3f3",
           "#FF6692",
           "#B6E880",
           "#FF97FF",
           "#FECB52"
          ],
          "font": {
           "color": "#2a3f5f"
          },
          "geo": {
           "bgcolor": "white",
           "lakecolor": "white",
           "landcolor": "#E5ECF6",
           "showlakes": true,
           "showland": true,
           "subunitcolor": "white"
          },
          "hoverlabel": {
           "align": "left"
          },
          "hovermode": "closest",
          "mapbox": {
           "style": "light"
          },
          "paper_bgcolor": "white",
          "plot_bgcolor": "#E5ECF6",
          "polar": {
           "angularaxis": {
            "gridcolor": "white",
            "linecolor": "white",
            "ticks": ""
           },
           "bgcolor": "#E5ECF6",
           "radialaxis": {
            "gridcolor": "white",
            "linecolor": "white",
            "ticks": ""
           }
          },
          "scene": {
           "xaxis": {
            "backgroundcolor": "#E5ECF6",
            "gridcolor": "white",
            "gridwidth": 2,
            "linecolor": "white",
            "showbackground": true,
            "ticks": "",
            "zerolinecolor": "white"
           },
           "yaxis": {
            "backgroundcolor": "#E5ECF6",
            "gridcolor": "white",
            "gridwidth": 2,
            "linecolor": "white",
            "showbackground": true,
            "ticks": "",
            "zerolinecolor": "white"
           },
           "zaxis": {
            "backgroundcolor": "#E5ECF6",
            "gridcolor": "white",
            "gridwidth": 2,
            "linecolor": "white",
            "showbackground": true,
            "ticks": "",
            "zerolinecolor": "white"
           }
          },
          "shapedefaults": {
           "line": {
            "color": "#2a3f5f"
           }
          },
          "ternary": {
           "aaxis": {
            "gridcolor": "white",
            "linecolor": "white",
            "ticks": ""
           },
           "baxis": {
            "gridcolor": "white",
            "linecolor": "white",
            "ticks": ""
           },
           "bgcolor": "#E5ECF6",
           "caxis": {
            "gridcolor": "white",
            "linecolor": "white",
            "ticks": ""
           }
          },
          "title": {
           "x": 0.05
          },
          "xaxis": {
           "automargin": true,
           "gridcolor": "white",
           "linecolor": "white",
           "ticks": "",
           "title": {
            "standoff": 15
           },
           "zerolinecolor": "white",
           "zerolinewidth": 2
          },
          "yaxis": {
           "automargin": true,
           "gridcolor": "white",
           "linecolor": "white",
           "ticks": "",
           "title": {
            "standoff": 15
           },
           "zerolinecolor": "white",
           "zerolinewidth": 2
          }
         }
        },
        "title": {
         "text": "법정동명별 거래 건수 (상위 15개)"
        },
        "xaxis": {
         "anchor": "y",
         "domain": [
          0,
          1
         ],
         "title": {
          "text": "법정동명"
         }
        },
        "yaxis": {
         "anchor": "x",
         "domain": [
          0,
          1
         ],
         "title": {
          "text": "거래 건수"
         }
        }
       }
      }
     },
     "metadata": {},
     "output_type": "display_data"
    }
   ],
   "source": [
    "fig1 = px.bar(df_api['법정동명'].value_counts().reset_index().head(15), \n",
    "             x='법정동명', y='count', \n",
    "             title='법정동명별 거래 건수 (상위 15개)',\n",
    "             color='count')\n",
    "fig1.update_layout(xaxis_title='법정동명', yaxis_title='거래 건수')\n",
    "fig1.show()"
   ]
  },
  {
   "cell_type": "markdown",
   "metadata": {},
   "source": [
    "### 2. 건물용도별 거래 건수 시각화"
   ]
  },
  {
   "cell_type": "code",
   "execution_count": 8,
   "metadata": {},
   "outputs": [
    {
     "data": {
      "application/vnd.plotly.v1+json": {
       "config": {
        "plotlyServerURL": "https://plot.ly"
       },
       "data": [
        {
         "domain": {
          "x": [
           0,
           1
          ],
          "y": [
           0,
           1
          ]
         },
         "hovertemplate": "건물용도=%{label}<extra></extra>",
         "labels": [
          "오피스텔",
          "연립다세대",
          "오피스텔",
          "아파트",
          "연립다세대",
          "아파트",
          "아파트",
          "오피스텔",
          "오피스텔",
          "연립다세대",
          "단독다가구",
          "연립다세대",
          "아파트",
          "연립다세대",
          "연립다세대",
          "연립다세대",
          "연립다세대",
          "연립다세대",
          "오피스텔",
          "오피스텔",
          "연립다세대",
          "아파트",
          "아파트",
          "아파트",
          "아파트",
          "연립다세대",
          "아파트",
          "연립다세대",
          "연립다세대",
          "오피스텔",
          "오피스텔",
          "아파트",
          "아파트",
          "연립다세대",
          "아파트",
          "연립다세대",
          "연립다세대",
          "아파트",
          "아파트",
          "오피스텔",
          "오피스텔",
          "아파트",
          "오피스텔",
          "아파트",
          "연립다세대",
          "아파트",
          "아파트",
          "오피스텔",
          "아파트",
          "단독다가구",
          "오피스텔",
          "연립다세대",
          "연립다세대",
          "단독다가구",
          "아파트",
          "오피스텔",
          "연립다세대",
          "단독다가구",
          "오피스텔",
          "오피스텔",
          "오피스텔",
          "단독다가구",
          "아파트",
          "연립다세대",
          "연립다세대",
          "연립다세대",
          "연립다세대",
          "연립다세대",
          "연립다세대",
          "연립다세대",
          "연립다세대",
          "오피스텔",
          "오피스텔",
          "연립다세대",
          "연립다세대",
          "아파트",
          "연립다세대",
          "연립다세대",
          "아파트",
          "연립다세대",
          "아파트",
          "아파트",
          "연립다세대",
          "오피스텔",
          "연립다세대",
          "아파트",
          "아파트",
          "아파트",
          "연립다세대",
          "아파트",
          "아파트",
          "아파트",
          "연립다세대",
          "아파트",
          "아파트",
          "오피스텔",
          "연립다세대",
          "아파트",
          "아파트",
          "아파트",
          "오피스텔",
          "연립다세대",
          "아파트",
          "연립다세대",
          "연립다세대",
          "아파트",
          "아파트",
          "연립다세대",
          "아파트",
          "연립다세대",
          "아파트",
          "연립다세대",
          "연립다세대",
          "아파트",
          "연립다세대",
          "아파트",
          "연립다세대",
          "연립다세대",
          "연립다세대",
          "아파트",
          "아파트",
          "아파트",
          "아파트",
          "아파트",
          "아파트",
          "오피스텔",
          "아파트",
          "연립다세대",
          "연립다세대",
          "연립다세대",
          "아파트",
          "아파트",
          "아파트",
          "아파트",
          "연립다세대",
          "아파트",
          "아파트",
          "연립다세대",
          "아파트",
          "오피스텔",
          "연립다세대",
          "오피스텔",
          "아파트",
          "아파트",
          "아파트",
          "아파트",
          "연립다세대",
          "아파트",
          "단독다가구",
          "아파트",
          "연립다세대",
          "연립다세대",
          "아파트",
          "아파트",
          "아파트",
          "아파트",
          "아파트",
          "연립다세대",
          "아파트",
          "아파트",
          "아파트",
          "아파트",
          "오피스텔",
          "연립다세대",
          "아파트",
          "아파트",
          "아파트",
          "아파트",
          "아파트",
          "아파트",
          "아파트",
          "아파트",
          "연립다세대",
          "아파트",
          "아파트",
          "오피스텔",
          "아파트",
          "아파트",
          "아파트",
          "아파트",
          "아파트",
          "아파트",
          "오피스텔",
          "아파트",
          "아파트",
          "오피스텔",
          "연립다세대",
          "아파트",
          "아파트",
          "오피스텔",
          "아파트",
          "아파트",
          "아파트",
          "연립다세대",
          "아파트",
          "오피스텔",
          "아파트",
          "아파트",
          "아파트",
          "연립다세대",
          "아파트",
          "오피스텔",
          "아파트",
          "아파트",
          "연립다세대",
          "연립다세대",
          "아파트",
          "아파트",
          "아파트",
          "오피스텔",
          "아파트",
          "아파트",
          "오피스텔",
          "연립다세대",
          "아파트",
          "아파트",
          "아파트",
          "연립다세대",
          "아파트",
          "아파트",
          "연립다세대",
          "아파트",
          "아파트",
          "오피스텔",
          "연립다세대",
          "아파트",
          "연립다세대",
          "연립다세대",
          "연립다세대",
          "아파트",
          "아파트",
          "아파트",
          "아파트",
          "아파트",
          "아파트",
          "오피스텔",
          "연립다세대",
          "아파트",
          "아파트",
          "연립다세대",
          "연립다세대",
          "아파트",
          "아파트",
          "아파트",
          "아파트",
          "연립다세대",
          "아파트",
          "연립다세대",
          "아파트",
          "아파트",
          "연립다세대",
          "연립다세대",
          "아파트",
          "아파트",
          "아파트",
          "아파트",
          "아파트",
          "아파트",
          "연립다세대",
          "오피스텔",
          "아파트",
          "아파트",
          "오피스텔",
          "아파트",
          "아파트",
          "아파트",
          "연립다세대",
          "아파트",
          "아파트",
          "단독다가구",
          "아파트",
          "연립다세대",
          "오피스텔",
          "단독다가구",
          "아파트",
          "아파트",
          "아파트",
          "아파트",
          "아파트",
          "연립다세대",
          "아파트",
          "아파트",
          "아파트",
          "연립다세대",
          "아파트",
          "아파트",
          "오피스텔",
          "연립다세대",
          "연립다세대",
          "연립다세대",
          "아파트",
          "연립다세대",
          "연립다세대",
          "아파트",
          "연립다세대",
          "아파트",
          "아파트",
          "아파트",
          "아파트",
          "아파트",
          "아파트",
          "아파트",
          "아파트",
          "아파트",
          "연립다세대",
          "아파트",
          "연립다세대",
          "연립다세대",
          "아파트",
          "아파트",
          "연립다세대",
          "연립다세대",
          "아파트",
          "아파트",
          "연립다세대",
          "연립다세대",
          "연립다세대",
          "아파트",
          "연립다세대",
          "연립다세대",
          "연립다세대",
          "오피스텔",
          "오피스텔",
          "연립다세대",
          "연립다세대",
          "아파트",
          "아파트",
          "아파트",
          "아파트",
          "오피스텔",
          "연립다세대",
          "아파트",
          "연립다세대",
          "연립다세대",
          "연립다세대",
          "아파트",
          "연립다세대",
          "오피스텔",
          "아파트",
          "아파트",
          "아파트",
          "아파트",
          "오피스텔",
          "오피스텔",
          "아파트",
          "연립다세대",
          "아파트",
          "아파트",
          "오피스텔",
          "아파트",
          "아파트",
          "오피스텔",
          "아파트",
          "아파트",
          "아파트",
          "연립다세대",
          "아파트",
          "아파트",
          "연립다세대",
          "아파트",
          "연립다세대",
          "연립다세대",
          "아파트",
          "아파트",
          "아파트",
          "연립다세대",
          "연립다세대",
          "아파트",
          "아파트",
          "연립다세대",
          "오피스텔",
          "오피스텔",
          "아파트",
          "단독다가구",
          "오피스텔",
          "오피스텔",
          "아파트",
          "연립다세대",
          "오피스텔",
          "아파트",
          "아파트",
          "단독다가구",
          "오피스텔",
          "오피스텔",
          "연립다세대",
          "단독다가구",
          "오피스텔",
          "연립다세대",
          "연립다세대",
          "단독다가구",
          "오피스텔",
          "아파트",
          "연립다세대",
          "단독다가구",
          "오피스텔",
          "연립다세대",
          "오피스텔",
          "단독다가구",
          "오피스텔",
          "오피스텔",
          "연립다세대",
          "오피스텔",
          "아파트",
          "아파트",
          "아파트",
          "연립다세대",
          "연립다세대",
          "오피스텔",
          "아파트",
          "아파트",
          "오피스텔",
          "연립다세대",
          "연립다세대",
          "오피스텔",
          "연립다세대",
          "오피스텔",
          "오피스텔",
          "아파트",
          "연립다세대",
          "오피스텔",
          "연립다세대",
          "연립다세대",
          "오피스텔",
          "아파트",
          "연립다세대",
          "오피스텔",
          "오피스텔",
          "연립다세대",
          "오피스텔",
          "아파트",
          "오피스텔",
          "오피스텔",
          "연립다세대",
          "아파트",
          "오피스텔",
          "오피스텔",
          "아파트",
          "오피스텔",
          "오피스텔",
          "아파트",
          "오피스텔",
          "아파트",
          "연립다세대",
          "오피스텔",
          "연립다세대",
          "연립다세대",
          "오피스텔",
          "오피스텔",
          "연립다세대",
          "오피스텔",
          "오피스텔",
          "연립다세대",
          "오피스텔",
          "연립다세대",
          "아파트",
          "오피스텔",
          "연립다세대",
          "연립다세대",
          "오피스텔",
          "연립다세대",
          "아파트",
          "오피스텔",
          "아파트",
          "오피스텔",
          "오피스텔",
          "오피스텔",
          "오피스텔",
          "아파트",
          "오피스텔",
          "연립다세대",
          "오피스텔",
          "아파트",
          "오피스텔",
          "오피스텔",
          "오피스텔",
          "오피스텔",
          "오피스텔",
          "오피스텔",
          "오피스텔",
          "아파트",
          "오피스텔",
          "연립다세대",
          "오피스텔",
          "아파트",
          "오피스텔",
          "오피스텔",
          "아파트",
          "아파트",
          "오피스텔",
          "연립다세대",
          "오피스텔",
          "아파트",
          "오피스텔",
          "연립다세대",
          "오피스텔",
          "오피스텔",
          "오피스텔",
          "오피스텔",
          "오피스텔",
          "연립다세대",
          "오피스텔",
          "연립다세대",
          "오피스텔",
          "아파트",
          "오피스텔",
          "연립다세대",
          "오피스텔",
          "오피스텔",
          "오피스텔",
          "연립다세대",
          "오피스텔",
          "연립다세대",
          "오피스텔",
          "연립다세대",
          "아파트",
          "아파트",
          "오피스텔",
          "오피스텔",
          "아파트",
          "오피스텔",
          "오피스텔",
          "오피스텔",
          "오피스텔",
          "오피스텔",
          "오피스텔",
          "오피스텔",
          "오피스텔",
          "오피스텔",
          "오피스텔",
          "오피스텔",
          "오피스텔",
          "오피스텔",
          "오피스텔",
          "오피스텔",
          "오피스텔",
          "오피스텔",
          "오피스텔",
          "오피스텔",
          "오피스텔",
          "오피스텔",
          "오피스텔",
          "오피스텔",
          "오피스텔",
          "오피스텔",
          "오피스텔",
          "오피스텔",
          "오피스텔",
          "오피스텔",
          "오피스텔",
          "오피스텔",
          "오피스텔",
          "오피스텔",
          "오피스텔",
          "오피스텔",
          "오피스텔",
          "오피스텔",
          "오피스텔",
          "아파트",
          "오피스텔",
          "오피스텔",
          "오피스텔",
          "오피스텔",
          "오피스텔",
          "오피스텔",
          "오피스텔",
          "오피스텔",
          "연립다세대",
          "오피스텔",
          "아파트",
          "오피스텔",
          "오피스텔",
          "아파트",
          "오피스텔",
          "오피스텔",
          "오피스텔",
          "오피스텔",
          "아파트",
          "오피스텔",
          "오피스텔",
          "오피스텔",
          "오피스텔",
          "오피스텔",
          "오피스텔",
          "단독다가구",
          "오피스텔",
          "오피스텔",
          "아파트",
          "단독다가구",
          "연립다세대",
          "아파트",
          "연립다세대",
          "단독다가구",
          "아파트",
          "오피스텔",
          "아파트",
          "아파트",
          "아파트",
          "아파트",
          "연립다세대",
          "오피스텔",
          "오피스텔",
          "아파트",
          "연립다세대",
          "아파트",
          "오피스텔",
          "연립다세대",
          "연립다세대",
          "연립다세대",
          "아파트",
          "연립다세대",
          "연립다세대",
          "아파트",
          "오피스텔",
          "연립다세대",
          "아파트",
          "연립다세대",
          "연립다세대",
          "연립다세대",
          "아파트",
          "오피스텔",
          "연립다세대",
          "아파트",
          "오피스텔",
          "아파트",
          "아파트",
          "아파트",
          "아파트",
          "아파트",
          "오피스텔",
          "아파트",
          "아파트",
          "연립다세대",
          "아파트",
          "연립다세대",
          "연립다세대",
          "오피스텔",
          "아파트",
          "연립다세대",
          "아파트",
          "연립다세대",
          "아파트",
          "아파트",
          "아파트",
          "연립다세대",
          "아파트",
          "아파트",
          "아파트",
          "오피스텔",
          "연립다세대",
          "아파트",
          "아파트",
          "아파트",
          "연립다세대",
          "연립다세대",
          "아파트",
          "아파트",
          "연립다세대",
          "오피스텔",
          "연립다세대",
          "아파트",
          "아파트",
          "오피스텔",
          "연립다세대",
          "아파트",
          "아파트",
          "아파트",
          "아파트",
          "아파트",
          "연립다세대",
          "아파트",
          "아파트",
          "연립다세대",
          "아파트",
          "연립다세대",
          "오피스텔",
          "아파트",
          "아파트",
          "오피스텔",
          "연립다세대",
          "아파트",
          "오피스텔",
          "오피스텔",
          "아파트",
          "단독다가구",
          "연립다세대",
          "아파트",
          "연립다세대",
          "단독다가구",
          "아파트",
          "오피스텔",
          "아파트",
          "아파트",
          "오피스텔",
          "오피스텔",
          "아파트",
          "아파트",
          "아파트",
          "연립다세대",
          "아파트",
          "오피스텔",
          "아파트",
          "아파트",
          "연립다세대",
          "아파트",
          "아파트",
          "연립다세대",
          "아파트",
          "연립다세대",
          "연립다세대",
          "연립다세대",
          "아파트",
          "연립다세대",
          "아파트",
          "연립다세대",
          "연립다세대",
          "오피스텔",
          "연립다세대",
          "아파트",
          "아파트",
          "연립다세대",
          "연립다세대",
          "아파트",
          "아파트",
          "아파트",
          "오피스텔",
          "연립다세대",
          "연립다세대",
          "연립다세대",
          "아파트",
          "연립다세대",
          "오피스텔",
          "연립다세대",
          "아파트",
          "연립다세대",
          "아파트",
          "아파트",
          "연립다세대",
          "아파트",
          "아파트",
          "아파트",
          "연립다세대",
          "오피스텔",
          "오피스텔",
          "오피스텔",
          "연립다세대",
          "오피스텔",
          "오피스텔",
          "연립다세대",
          "아파트",
          "아파트",
          "오피스텔",
          "연립다세대",
          "아파트",
          "연립다세대",
          "연립다세대",
          "연립다세대",
          "아파트",
          "연립다세대",
          "아파트",
          "아파트",
          "연립다세대",
          "연립다세대",
          "연립다세대",
          "아파트",
          "아파트",
          "아파트",
          "아파트",
          "아파트",
          "아파트",
          "아파트",
          "아파트",
          "연립다세대",
          "아파트",
          "오피스텔",
          "연립다세대",
          "연립다세대",
          "아파트",
          "오피스텔",
          "아파트",
          "오피스텔",
          "아파트",
          "아파트",
          "오피스텔",
          "오피스텔",
          "아파트",
          "연립다세대",
          "연립다세대",
          "오피스텔",
          "연립다세대",
          "연립다세대",
          "연립다세대",
          "연립다세대",
          "오피스텔",
          "아파트",
          "아파트",
          "아파트",
          "오피스텔",
          "오피스텔",
          "연립다세대",
          "오피스텔",
          "오피스텔",
          "아파트",
          "연립다세대",
          "연립다세대",
          "단독다가구",
          "아파트",
          "아파트",
          "연립다세대",
          "단독다가구",
          "오피스텔",
          "연립다세대",
          "연립다세대",
          "아파트",
          "오피스텔",
          "아파트",
          "연립다세대",
          "오피스텔",
          "아파트",
          "연립다세대",
          "연립다세대",
          "연립다세대",
          "아파트",
          "아파트",
          "연립다세대",
          "연립다세대",
          "아파트",
          "연립다세대",
          "아파트",
          "아파트",
          "연립다세대",
          "아파트",
          "아파트",
          "아파트",
          "아파트",
          "연립다세대",
          "아파트",
          "연립다세대",
          "연립다세대",
          "아파트",
          "연립다세대",
          "연립다세대",
          "연립다세대",
          "오피스텔",
          "연립다세대",
          "연립다세대",
          "연립다세대",
          "연립다세대",
          "연립다세대",
          "아파트",
          "아파트",
          "연립다세대",
          "아파트",
          "아파트",
          "연립다세대",
          "아파트",
          "오피스텔",
          "아파트",
          "오피스텔",
          "연립다세대",
          "연립다세대",
          "아파트",
          "아파트",
          "연립다세대",
          "연립다세대",
          "아파트",
          "연립다세대",
          "아파트",
          "아파트",
          "오피스텔",
          "오피스텔",
          "아파트",
          "아파트",
          "아파트",
          "아파트",
          "연립다세대",
          "아파트",
          "연립다세대",
          "연립다세대",
          "아파트",
          "연립다세대",
          "아파트",
          "아파트",
          "아파트",
          "연립다세대",
          "오피스텔",
          "연립다세대",
          "연립다세대",
          "아파트",
          "아파트",
          "아파트",
          "연립다세대",
          "아파트",
          "아파트",
          "오피스텔",
          "오피스텔",
          "아파트",
          "연립다세대",
          "연립다세대",
          "아파트",
          "아파트",
          "오피스텔",
          "아파트",
          "연립다세대",
          "오피스텔",
          "연립다세대",
          "아파트",
          "연립다세대",
          "연립다세대",
          "아파트",
          "아파트",
          "아파트",
          "아파트",
          "아파트",
          "연립다세대",
          "연립다세대",
          "아파트",
          "아파트",
          "연립다세대",
          "오피스텔",
          "연립다세대",
          "단독다가구",
          "아파트",
          "아파트",
          "연립다세대",
          "아파트",
          "아파트",
          "아파트",
          "연립다세대",
          "단독다가구",
          "아파트",
          "아파트",
          "아파트",
          "아파트",
          "아파트",
          "아파트",
          "아파트",
          "연립다세대",
          "아파트",
          "아파트",
          "연립다세대",
          "연립다세대",
          "연립다세대",
          "아파트",
          "아파트",
          "아파트",
          "아파트",
          "연립다세대",
          "연립다세대",
          "연립다세대",
          "아파트",
          "아파트",
          "아파트",
          "아파트",
          "아파트",
          "연립다세대",
          "아파트",
          "오피스텔",
          "아파트",
          "연립다세대",
          "아파트",
          "연립다세대",
          "연립다세대",
          "연립다세대",
          "아파트",
          "아파트",
          "아파트",
          "아파트",
          "아파트",
          "아파트",
          "아파트",
          "연립다세대",
          "아파트",
          "연립다세대",
          "아파트",
          "아파트",
          "아파트",
          "아파트",
          "아파트",
          "아파트",
          "단독다가구",
          "아파트",
          "아파트",
          "아파트",
          "아파트",
          "아파트",
          "아파트",
          "아파트",
          "단독다가구",
          "연립다세대",
          "오피스텔",
          "아파트",
          "단독다가구",
          "아파트",
          "아파트",
          "연립다세대",
          "단독다가구",
          "아파트",
          "아파트",
          "연립다세대",
          "단독다가구"
         ],
         "legendgroup": "",
         "name": "",
         "showlegend": true,
         "textinfo": "percent+label",
         "textposition": "inside",
         "type": "pie"
        }
       ],
       "layout": {
        "legend": {
         "tracegroupgap": 0
        },
        "template": {
         "data": {
          "bar": [
           {
            "error_x": {
             "color": "#2a3f5f"
            },
            "error_y": {
             "color": "#2a3f5f"
            },
            "marker": {
             "line": {
              "color": "#E5ECF6",
              "width": 0.5
             },
             "pattern": {
              "fillmode": "overlay",
              "size": 10,
              "solidity": 0.2
             }
            },
            "type": "bar"
           }
          ],
          "barpolar": [
           {
            "marker": {
             "line": {
              "color": "#E5ECF6",
              "width": 0.5
             },
             "pattern": {
              "fillmode": "overlay",
              "size": 10,
              "solidity": 0.2
             }
            },
            "type": "barpolar"
           }
          ],
          "carpet": [
           {
            "aaxis": {
             "endlinecolor": "#2a3f5f",
             "gridcolor": "white",
             "linecolor": "white",
             "minorgridcolor": "white",
             "startlinecolor": "#2a3f5f"
            },
            "baxis": {
             "endlinecolor": "#2a3f5f",
             "gridcolor": "white",
             "linecolor": "white",
             "minorgridcolor": "white",
             "startlinecolor": "#2a3f5f"
            },
            "type": "carpet"
           }
          ],
          "choropleth": [
           {
            "colorbar": {
             "outlinewidth": 0,
             "ticks": ""
            },
            "type": "choropleth"
           }
          ],
          "contour": [
           {
            "colorbar": {
             "outlinewidth": 0,
             "ticks": ""
            },
            "colorscale": [
             [
              0,
              "#0d0887"
             ],
             [
              0.1111111111111111,
              "#46039f"
             ],
             [
              0.2222222222222222,
              "#7201a8"
             ],
             [
              0.3333333333333333,
              "#9c179e"
             ],
             [
              0.4444444444444444,
              "#bd3786"
             ],
             [
              0.5555555555555556,
              "#d8576b"
             ],
             [
              0.6666666666666666,
              "#ed7953"
             ],
             [
              0.7777777777777778,
              "#fb9f3a"
             ],
             [
              0.8888888888888888,
              "#fdca26"
             ],
             [
              1,
              "#f0f921"
             ]
            ],
            "type": "contour"
           }
          ],
          "contourcarpet": [
           {
            "colorbar": {
             "outlinewidth": 0,
             "ticks": ""
            },
            "type": "contourcarpet"
           }
          ],
          "heatmap": [
           {
            "colorbar": {
             "outlinewidth": 0,
             "ticks": ""
            },
            "colorscale": [
             [
              0,
              "#0d0887"
             ],
             [
              0.1111111111111111,
              "#46039f"
             ],
             [
              0.2222222222222222,
              "#7201a8"
             ],
             [
              0.3333333333333333,
              "#9c179e"
             ],
             [
              0.4444444444444444,
              "#bd3786"
             ],
             [
              0.5555555555555556,
              "#d8576b"
             ],
             [
              0.6666666666666666,
              "#ed7953"
             ],
             [
              0.7777777777777778,
              "#fb9f3a"
             ],
             [
              0.8888888888888888,
              "#fdca26"
             ],
             [
              1,
              "#f0f921"
             ]
            ],
            "type": "heatmap"
           }
          ],
          "histogram": [
           {
            "marker": {
             "pattern": {
              "fillmode": "overlay",
              "size": 10,
              "solidity": 0.2
             }
            },
            "type": "histogram"
           }
          ],
          "histogram2d": [
           {
            "colorbar": {
             "outlinewidth": 0,
             "ticks": ""
            },
            "colorscale": [
             [
              0,
              "#0d0887"
             ],
             [
              0.1111111111111111,
              "#46039f"
             ],
             [
              0.2222222222222222,
              "#7201a8"
             ],
             [
              0.3333333333333333,
              "#9c179e"
             ],
             [
              0.4444444444444444,
              "#bd3786"
             ],
             [
              0.5555555555555556,
              "#d8576b"
             ],
             [
              0.6666666666666666,
              "#ed7953"
             ],
             [
              0.7777777777777778,
              "#fb9f3a"
             ],
             [
              0.8888888888888888,
              "#fdca26"
             ],
             [
              1,
              "#f0f921"
             ]
            ],
            "type": "histogram2d"
           }
          ],
          "histogram2dcontour": [
           {
            "colorbar": {
             "outlinewidth": 0,
             "ticks": ""
            },
            "colorscale": [
             [
              0,
              "#0d0887"
             ],
             [
              0.1111111111111111,
              "#46039f"
             ],
             [
              0.2222222222222222,
              "#7201a8"
             ],
             [
              0.3333333333333333,
              "#9c179e"
             ],
             [
              0.4444444444444444,
              "#bd3786"
             ],
             [
              0.5555555555555556,
              "#d8576b"
             ],
             [
              0.6666666666666666,
              "#ed7953"
             ],
             [
              0.7777777777777778,
              "#fb9f3a"
             ],
             [
              0.8888888888888888,
              "#fdca26"
             ],
             [
              1,
              "#f0f921"
             ]
            ],
            "type": "histogram2dcontour"
           }
          ],
          "mesh3d": [
           {
            "colorbar": {
             "outlinewidth": 0,
             "ticks": ""
            },
            "type": "mesh3d"
           }
          ],
          "parcoords": [
           {
            "line": {
             "colorbar": {
              "outlinewidth": 0,
              "ticks": ""
             }
            },
            "type": "parcoords"
           }
          ],
          "pie": [
           {
            "automargin": true,
            "type": "pie"
           }
          ],
          "scatter": [
           {
            "fillpattern": {
             "fillmode": "overlay",
             "size": 10,
             "solidity": 0.2
            },
            "type": "scatter"
           }
          ],
          "scatter3d": [
           {
            "line": {
             "colorbar": {
              "outlinewidth": 0,
              "ticks": ""
             }
            },
            "marker": {
             "colorbar": {
              "outlinewidth": 0,
              "ticks": ""
             }
            },
            "type": "scatter3d"
           }
          ],
          "scattercarpet": [
           {
            "marker": {
             "colorbar": {
              "outlinewidth": 0,
              "ticks": ""
             }
            },
            "type": "scattercarpet"
           }
          ],
          "scattergeo": [
           {
            "marker": {
             "colorbar": {
              "outlinewidth": 0,
              "ticks": ""
             }
            },
            "type": "scattergeo"
           }
          ],
          "scattergl": [
           {
            "marker": {
             "colorbar": {
              "outlinewidth": 0,
              "ticks": ""
             }
            },
            "type": "scattergl"
           }
          ],
          "scattermap": [
           {
            "marker": {
             "colorbar": {
              "outlinewidth": 0,
              "ticks": ""
             }
            },
            "type": "scattermap"
           }
          ],
          "scattermapbox": [
           {
            "marker": {
             "colorbar": {
              "outlinewidth": 0,
              "ticks": ""
             }
            },
            "type": "scattermapbox"
           }
          ],
          "scatterpolar": [
           {
            "marker": {
             "colorbar": {
              "outlinewidth": 0,
              "ticks": ""
             }
            },
            "type": "scatterpolar"
           }
          ],
          "scatterpolargl": [
           {
            "marker": {
             "colorbar": {
              "outlinewidth": 0,
              "ticks": ""
             }
            },
            "type": "scatterpolargl"
           }
          ],
          "scatterternary": [
           {
            "marker": {
             "colorbar": {
              "outlinewidth": 0,
              "ticks": ""
             }
            },
            "type": "scatterternary"
           }
          ],
          "surface": [
           {
            "colorbar": {
             "outlinewidth": 0,
             "ticks": ""
            },
            "colorscale": [
             [
              0,
              "#0d0887"
             ],
             [
              0.1111111111111111,
              "#46039f"
             ],
             [
              0.2222222222222222,
              "#7201a8"
             ],
             [
              0.3333333333333333,
              "#9c179e"
             ],
             [
              0.4444444444444444,
              "#bd3786"
             ],
             [
              0.5555555555555556,
              "#d8576b"
             ],
             [
              0.6666666666666666,
              "#ed7953"
             ],
             [
              0.7777777777777778,
              "#fb9f3a"
             ],
             [
              0.8888888888888888,
              "#fdca26"
             ],
             [
              1,
              "#f0f921"
             ]
            ],
            "type": "surface"
           }
          ],
          "table": [
           {
            "cells": {
             "fill": {
              "color": "#EBF0F8"
             },
             "line": {
              "color": "white"
             }
            },
            "header": {
             "fill": {
              "color": "#C8D4E3"
             },
             "line": {
              "color": "white"
             }
            },
            "type": "table"
           }
          ]
         },
         "layout": {
          "annotationdefaults": {
           "arrowcolor": "#2a3f5f",
           "arrowhead": 0,
           "arrowwidth": 1
          },
          "autotypenumbers": "strict",
          "coloraxis": {
           "colorbar": {
            "outlinewidth": 0,
            "ticks": ""
           }
          },
          "colorscale": {
           "diverging": [
            [
             0,
             "#8e0152"
            ],
            [
             0.1,
             "#c51b7d"
            ],
            [
             0.2,
             "#de77ae"
            ],
            [
             0.3,
             "#f1b6da"
            ],
            [
             0.4,
             "#fde0ef"
            ],
            [
             0.5,
             "#f7f7f7"
            ],
            [
             0.6,
             "#e6f5d0"
            ],
            [
             0.7,
             "#b8e186"
            ],
            [
             0.8,
             "#7fbc41"
            ],
            [
             0.9,
             "#4d9221"
            ],
            [
             1,
             "#276419"
            ]
           ],
           "sequential": [
            [
             0,
             "#0d0887"
            ],
            [
             0.1111111111111111,
             "#46039f"
            ],
            [
             0.2222222222222222,
             "#7201a8"
            ],
            [
             0.3333333333333333,
             "#9c179e"
            ],
            [
             0.4444444444444444,
             "#bd3786"
            ],
            [
             0.5555555555555556,
             "#d8576b"
            ],
            [
             0.6666666666666666,
             "#ed7953"
            ],
            [
             0.7777777777777778,
             "#fb9f3a"
            ],
            [
             0.8888888888888888,
             "#fdca26"
            ],
            [
             1,
             "#f0f921"
            ]
           ],
           "sequentialminus": [
            [
             0,
             "#0d0887"
            ],
            [
             0.1111111111111111,
             "#46039f"
            ],
            [
             0.2222222222222222,
             "#7201a8"
            ],
            [
             0.3333333333333333,
             "#9c179e"
            ],
            [
             0.4444444444444444,
             "#bd3786"
            ],
            [
             0.5555555555555556,
             "#d8576b"
            ],
            [
             0.6666666666666666,
             "#ed7953"
            ],
            [
             0.7777777777777778,
             "#fb9f3a"
            ],
            [
             0.8888888888888888,
             "#fdca26"
            ],
            [
             1,
             "#f0f921"
            ]
           ]
          },
          "colorway": [
           "#636efa",
           "#EF553B",
           "#00cc96",
           "#ab63fa",
           "#FFA15A",
           "#19d3f3",
           "#FF6692",
           "#B6E880",
           "#FF97FF",
           "#FECB52"
          ],
          "font": {
           "color": "#2a3f5f"
          },
          "geo": {
           "bgcolor": "white",
           "lakecolor": "white",
           "landcolor": "#E5ECF6",
           "showlakes": true,
           "showland": true,
           "subunitcolor": "white"
          },
          "hoverlabel": {
           "align": "left"
          },
          "hovermode": "closest",
          "mapbox": {
           "style": "light"
          },
          "paper_bgcolor": "white",
          "plot_bgcolor": "#E5ECF6",
          "polar": {
           "angularaxis": {
            "gridcolor": "white",
            "linecolor": "white",
            "ticks": ""
           },
           "bgcolor": "#E5ECF6",
           "radialaxis": {
            "gridcolor": "white",
            "linecolor": "white",
            "ticks": ""
           }
          },
          "scene": {
           "xaxis": {
            "backgroundcolor": "#E5ECF6",
            "gridcolor": "white",
            "gridwidth": 2,
            "linecolor": "white",
            "showbackground": true,
            "ticks": "",
            "zerolinecolor": "white"
           },
           "yaxis": {
            "backgroundcolor": "#E5ECF6",
            "gridcolor": "white",
            "gridwidth": 2,
            "linecolor": "white",
            "showbackground": true,
            "ticks": "",
            "zerolinecolor": "white"
           },
           "zaxis": {
            "backgroundcolor": "#E5ECF6",
            "gridcolor": "white",
            "gridwidth": 2,
            "linecolor": "white",
            "showbackground": true,
            "ticks": "",
            "zerolinecolor": "white"
           }
          },
          "shapedefaults": {
           "line": {
            "color": "#2a3f5f"
           }
          },
          "ternary": {
           "aaxis": {
            "gridcolor": "white",
            "linecolor": "white",
            "ticks": ""
           },
           "baxis": {
            "gridcolor": "white",
            "linecolor": "white",
            "ticks": ""
           },
           "bgcolor": "#E5ECF6",
           "caxis": {
            "gridcolor": "white",
            "linecolor": "white",
            "ticks": ""
           }
          },
          "title": {
           "x": 0.05
          },
          "xaxis": {
           "automargin": true,
           "gridcolor": "white",
           "linecolor": "white",
           "ticks": "",
           "title": {
            "standoff": 15
           },
           "zerolinecolor": "white",
           "zerolinewidth": 2
          },
          "yaxis": {
           "automargin": true,
           "gridcolor": "white",
           "linecolor": "white",
           "ticks": "",
           "title": {
            "standoff": 15
           },
           "zerolinecolor": "white",
           "zerolinewidth": 2
          }
         }
        },
        "title": {
         "text": "건물용도별 거래 비율"
        }
       }
      }
     },
     "metadata": {},
     "output_type": "display_data"
    }
   ],
   "source": [
    "fig2 = px.pie(df_api, names='건물용도', title='건물용도별 거래 비율')\n",
    "fig2.update_traces(textposition='inside', textinfo='percent+label')\n",
    "fig2.show()\n"
   ]
  },
  {
   "cell_type": "markdown",
   "metadata": {},
   "source": [
    "# 프로젝트 제안\n",
    "\n",
    "## 주제: AI 기반 데이터 연계 및 공간 분석을 통한 서울시 부동산 실거래가 정보의 활용성 증대\n",
    "\n",
    "## 프로젝트 개요:\n",
    "서울시 부동산 실거래가 정보는 중요한 데이터이지만, 위치 좌표(위도, 경도)가 포함되어 있지 않아 공간 분석에 제약이 있습니다. 또한, 주소 정보의 비표준화로 인해 다른 공간 데이터와의 연계가 어렵다는 한계가 있습니다. 본 프로젝트에서는 AI 기술을 활용하여 실거래가 데이터에 위치 정보를 추가하고, 이를 통해 데이터의 활용성을 높이는 방법을 탐구합니다.\n",
    "\n",
    "## 데이터 수집:\n",
    "\n",
    "- 무엇을 위해 어떤 데이터가 필요한가?\n",
    "\n",
    "  - 목적: 서울시 부동산 실거래가 데이터의 공간적 패턴 분석, 지역별 특성 연계 분석 (예: 지하철역 접근성, 학군 등), 시각화 강화를 위해 위치 좌표(위도, 경도) 데이터가 필요합니다.\n",
    "\n",
    "  - 필요 데이터:\n",
    "\n",
    "    - 서울시 부동산 실거래가 정보 (Open API 활용하여 전체 데이터 수집)\n",
    "\n",
    "    - 서울시 건물 주소 및 위치 좌표 데이터 (다른 공공 데이터 포털 등에서 확보 가능한 데이터셋 탐색)\n",
    "\n",
    "    - 분석 목적에 따라 추가적인 공간 데이터 (예: 지하철역 위치, 행정구역 경계 등)\n",
    "\n",
    "- 기존의 데이터의 한계는 무엇인가?\n",
    "\n",
    "    - 위치 정보 부재: 실거래가 데이터 자체에 위도, 경도 정보가 없어 공간 분석이 불가능합니다.\n",
    "\n",
    "- 어떻게 유용한 데이터를 구축할 것인가? (Using Generative AI)\n",
    "\n",
    "    - AI 기반 주소 파싱 및 표준화 모델 개발/활용: 실거래가 데이터의 주소 문자열을 구조화된 형태로 파싱하고 표준화합니다.\n",
    "\n",
    "    - AI 기반 주소 매칭 알고리즘 적용: 표준화된 주소 정보를 활용하여 건물 주소/위치 좌표 데이터셋과 실거래가 데이터를 매칭합니다. 불완전하거나 약간 다른 주소도 매칭할 수 있도록 퍼지 매칭(Fuzzy Matching) 또는 임베딩 기반 유사도 측정 등 AI/ML 기법을 활용합니다.\n",
    "\n",
    "    - 매칭된 결과를 기존 실거래가 데이터에 추가하여 '위도', '경도' 컬럼을 포함하는 새로운 통합 데이터셋을 구축합니다.\n",
    "\n",
    "- 어떻게 유용한 데이터인지를 증명할 것인가?\n",
    "\n",
    "  - 시각화: 구축된 통합 데이터셋을 활용하여 서울시 지도 위에 실거래가 정보를 시각화합니다 (예: 거래량/가격 히트맵, 특정 건물 유형 분포). 기존 데이터로는 불가능했던 공간적 시각화를 통해 데이터의 유용성을 보여줍니다.\n",
    "\n",
    "  - 공간 분석: 위치 정보를 활용하여 지역별 평균 가격, 특정 시설(지하철역 등)과의 거리에 따른 가격 변화 등 공간 분석 결과를 제시합니다.\n",
    "\n",
    "  - 데이터 품질 개선 효과: AI 매칭을 통해 얼마나 많은 실거래가 데이터에 정확한 위치 정보가 추가되었는지 정량적으로 보여줍니다.\n",
    "\n",
    "- 데이터가 고르게 잘 분포되어 있는가?\n",
    "\n",
    "  - 수집된 전체 데이터의 시간적(연도별, 월별) 및 공간적(자치구별, 법정동별) 분포를 분석합니다.\n",
    "\n",
    "- 합법적 데이터인가?\n",
    "\n",
    "  - 서울시 열린데이터광장에서 제공하는 데이터는 '공공누리 1유형(출처표시, 상업적 이용 및 변경 가능)' 라이선스를 따르므로 합법적으로 사용 및 변경 가능합니다.\n",
    "\n",
    "  - 다른 공공 데이터 포털에서 확보하는 데이터 또한 라이선스를 확인하여 합법적으로 사용합니다.\n"
   ]
  },
  {
   "cell_type": "code",
   "execution_count": null,
   "metadata": {},
   "outputs": [],
   "source": []
  },
  {
   "cell_type": "code",
   "execution_count": null,
   "metadata": {},
   "outputs": [],
   "source": []
  }
 ],
 "metadata": {
  "kernelspec": {
   "display_name": ".venv",
   "language": "python",
   "name": "python3"
  },
  "language_info": {
   "codemirror_mode": {
    "name": "ipython",
    "version": 3
   },
   "file_extension": ".py",
   "mimetype": "text/x-python",
   "name": "python",
   "nbconvert_exporter": "python",
   "pygments_lexer": "ipython3",
   "version": "3.11.11"
  }
 },
 "nbformat": 4,
 "nbformat_minor": 2
}
